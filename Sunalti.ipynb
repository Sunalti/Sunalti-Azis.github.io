{
  "nbformat": 4,
  "nbformat_minor": 0,
  "metadata": {
    "colab": {
      "name": "Sunalti.ipynb",
      "provenance": [],
      "authorship_tag": "ABX9TyMIRSs8gF4XnmJzJ1glPiUR",
      "include_colab_link": true
    },
    "kernelspec": {
      "name": "python3",
      "display_name": "Python 3"
    },
    "language_info": {
      "name": "python"
    }
  },
  "cells": [
    {
      "cell_type": "markdown",
      "metadata": {
        "id": "view-in-github",
        "colab_type": "text"
      },
      "source": [
        "<a href=\"https://colab.research.google.com/github/Sunalti/Sunalti-Azis.github.io/blob/main/Sunalti.ipynb\" target=\"_parent\"><img src=\"https://colab.research.google.com/assets/colab-badge.svg\" alt=\"Open In Colab\"/></a>"
      ]
    },
    {
      "cell_type": "code",
      "execution_count": 5,
      "metadata": {
        "colab": {
          "base_uri": "https://localhost:8080/"
        },
        "id": "6QxyaqTjEVvB",
        "outputId": "8e9819ad-ea73-407e-8e22-7a937d8fcc80"
      },
      "outputs": [
        {
          "output_type": "stream",
          "name": "stdout",
          "text": [
            "Nama saya Sunalti\n"
          ]
        }
      ],
      "source": [
        "print(\"Nama saya Sunalti\")"
      ]
    }
  ]
}